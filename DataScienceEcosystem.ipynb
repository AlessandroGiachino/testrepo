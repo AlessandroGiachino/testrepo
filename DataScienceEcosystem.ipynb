{
 "cells": [
  {
   "cell_type": "markdown",
   "id": "6ade62af",
   "metadata": {},
   "source": [
    "# Data Science Tools and Ecosystem"
   ]
  },
  {
   "cell_type": "markdown",
   "id": "1e8361d1",
   "metadata": {},
   "source": [
    "In this notebook, Data Science Tools and Ecosystem are summarized."
   ]
  },
  {
   "cell_type": "markdown",
   "id": "c2e08d36",
   "metadata": {},
   "source": [
    "Some of the popular languages that Data Scientists use are:"
   ]
  },
  {
   "cell_type": "markdown",
   "id": "36425dc2",
   "metadata": {},
   "source": [
    "1. Python\n",
    "1. R\n",
    "1. SQL\n",
    "1. Scala\n",
    "1. Julia"
   ]
  },
  {
   "cell_type": "markdown",
   "id": "19673b2a",
   "metadata": {},
   "source": [
    "Some of the commonly used libraries used by Data Scientists include:\n",
    "1. Pandas\n",
    "1. Matplotlib\n",
    "1. Ggplot2\n",
    "1. Mocha\n",
    "1. Flux"
   ]
  },
  {
   "cell_type": "markdown",
   "id": "21ea0d0d",
   "metadata": {},
   "source": [
    "| Data Science Tools |\n",
    "| --- | \n",
    "| Weka |\n",
    "| Scrapy |\n",
    "| Hadoop |"
   ]
  },
  {
   "cell_type": "markdown",
   "id": "d723c3ed",
   "metadata": {},
   "source": [
    "### Below are a few examples of evaluating arithmetic expressions in Python"
   ]
  },
  {
   "cell_type": "code",
   "execution_count": 3,
   "id": "da2cfebd",
   "metadata": {},
   "outputs": [
    {
     "data": {
      "text/plain": [
       "17"
      ]
     },
     "execution_count": 3,
     "metadata": {},
     "output_type": "execute_result"
    }
   ],
   "source": [
    "#This a simple arithmetic expression to mutiply then add integers\n",
    "(3*4)+5"
   ]
  },
  {
   "cell_type": "code",
   "execution_count": 4,
   "id": "ed935ab8",
   "metadata": {},
   "outputs": [
    {
     "data": {
      "text/plain": [
       "3.3333333333333335"
      ]
     },
     "execution_count": 4,
     "metadata": {},
     "output_type": "execute_result"
    }
   ],
   "source": [
    "# This will convert 200 minutes to hours by diving by 60\n",
    "200/60"
   ]
  },
  {
   "cell_type": "markdown",
   "id": "7f2b203f",
   "metadata": {},
   "source": [
    "**Objectives:**\n",
    "- Extract insights from big data using predictive analytics and artificial intelligence (AI), including machine learning models, natural language processing, and deep learning.\n",
    "- Tell—and illustrate—stories that clearly convey the meaning of results to decision-makers and stakeholders at every level of technical understanding.\n",
    "- Explain how the results can be used to solve business problems."
   ]
  },
  {
   "cell_type": "markdown",
   "id": "015aa5e1",
   "metadata": {},
   "source": [
    "## Author\n",
    "Alessandro Giachino"
   ]
  },
  {
   "cell_type": "code",
   "execution_count": null,
   "id": "f65b8336",
   "metadata": {},
   "outputs": [],
   "source": []
  }
 ],
 "metadata": {
  "kernelspec": {
   "display_name": "Python 3 (ipykernel)",
   "language": "python",
   "name": "python3"
  },
  "language_info": {
   "codemirror_mode": {
    "name": "ipython",
    "version": 3
   },
   "file_extension": ".py",
   "mimetype": "text/x-python",
   "name": "python",
   "nbconvert_exporter": "python",
   "pygments_lexer": "ipython3",
   "version": "3.9.13"
  }
 },
 "nbformat": 4,
 "nbformat_minor": 5
}
